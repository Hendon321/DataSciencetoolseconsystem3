{
 "cells": [
  {
   "cell_type": "markdown",
   "id": "8f301786-18bc-43d5-90ed-b6857beabd21",
   "metadata": {},
   "source": [
    "# Exercise 11"
   ]
  },
  {
   "cell_type": "markdown",
   "id": "df357324-5f2a-49ef-8398-5367ba6e7252",
   "metadata": {},
   "source": [
    "## Author\n",
    "Jodi R Hendon"
   ]
  },
  {
   "cell_type": "markdown",
   "id": "0669971f-8666-49a0-ad50-aad6e4078b94",
   "metadata": {
    "jp-MarkdownHeadingCollapsed": true,
    "tags": []
   },
   "source": [
    "# Exercise 3"
   ]
  },
  {
   "cell_type": "markdown",
   "id": "7f2a66a4-88ef-43d9-8b67-0a34aa051090",
   "metadata": {},
   "source": [
    "# Data Science Tools and Eco System"
   ]
  },
  {
   "cell_type": "markdown",
   "id": "2b54fcc6-df25-49b2-87ba-682f6f74306d",
   "metadata": {},
   "source": [
    "In this notebook, Data Science Tools and Ecosystem are summarized."
   ]
  },
  {
   "cell_type": "markdown",
   "id": "8f3ffce5-614e-4065-8147-e0b1281eacdd",
   "metadata": {},
   "source": [
    "# Exercise 10"
   ]
  },
  {
   "cell_type": "markdown",
   "id": "1836a0ca-f112-40de-a705-3e719e75e257",
   "metadata": {},
   "source": [
    "**Objectives**\n"
   ]
  },
  {
   "cell_type": "markdown",
   "id": "00fc4048-5576-4e43-85da-f85e560d8a56",
   "metadata": {},
   "source": [
    "- Popular languages\n",
    "- Common Libraries\n",
    "- Data Science tools\n",
    "- Evaluating Arithmetic in Python"
   ]
  },
  {
   "cell_type": "markdown",
   "id": "d3884ec9-d442-494c-9114-e9a4817b98a4",
   "metadata": {},
   "source": [
    "# Exercise 4"
   ]
  },
  {
   "cell_type": "markdown",
   "id": "1e913266-5a14-4415-85b7-ea74149ea9eb",
   "metadata": {},
   "source": [
    "Some of the popular languages that Data Scientists use are:"
   ]
  },
  {
   "cell_type": "markdown",
   "id": "8c9d4438-a727-4a63-bdb8-6f081d9ebf22",
   "metadata": {},
   "source": [
    "    "
   ]
  },
  {
   "cell_type": "markdown",
   "id": "acc7b07b-3651-4dbc-97a6-e20e7f0b6735",
   "metadata": {},
   "source": [
    "# Exercise 5"
   ]
  },
  {
   "cell_type": "markdown",
   "id": "d1dead92-defa-4564-aad5-2f1bb88091e5",
   "metadata": {},
   "source": [
    "Some of the commonly used libraries used by Data Scientists are:"
   ]
  },
  {
   "cell_type": "markdown",
   "id": "6710f091-1cf0-450f-928c-f7863af8c624",
   "metadata": {},
   "source": [
    "1. Theano\n",
    "2. Matplotlib\n",
    "3. Sympy"
   ]
  },
  {
   "cell_type": "markdown",
   "id": "84a04090-324d-4db9-927d-69822876831a",
   "metadata": {},
   "source": [
    "# Exercise 6"
   ]
  },
  {
   "cell_type": "markdown",
   "id": "3da3ddcc-86dd-4349-b9d4-0a26bb9a878c",
   "metadata": {},
   "source": [
    "| Data Science Tools|\n",
    "| -------------------|\n",
    "| Jupyter Notebook|\n",
    "| R Studio |\n",
    "| GitHub |\n"
   ]
  },
  {
   "cell_type": "markdown",
   "id": "d243ecb9-69d8-4616-8142-48e1f02d0c1b",
   "metadata": {},
   "source": [
    "# Exercise 7"
   ]
  },
  {
   "cell_type": "markdown",
   "id": "8c5bcf1c-4786-4acc-ba2d-21cc8a89380c",
   "metadata": {},
   "source": [
    "Below are a few examples of evaluating arithmetic expressions in Python."
   ]
  },
  {
   "cell_type": "markdown",
   "id": "b32c0f95-fde2-4fae-bc62-2c50b4329d99",
   "metadata": {},
   "source": [
    "# Exercise 8"
   ]
  },
  {
   "cell_type": "code",
   "execution_count": 58,
   "id": "7d3a2dec-b08b-4f95-8dc9-808fd05bc4cb",
   "metadata": {},
   "outputs": [
    {
     "data": {
      "text/plain": [
       "17"
      ]
     },
     "execution_count": 58,
     "metadata": {},
     "output_type": "execute_result"
    }
   ],
   "source": [
    " #This a simple arithmetic expression to mutiply then add integers.\n",
    "(3*4)+5\n",
    "    "
   ]
  },
  {
   "cell_type": "markdown",
   "id": "3b69ee06-f160-4c77-909c-ec8cf007fcb8",
   "metadata": {},
   "source": [
    "# Exercise 9"
   ]
  },
  {
   "cell_type": "code",
   "execution_count": 19,
   "id": "0f6abb45-a0dd-473f-a895-a4638abb0dad",
   "metadata": {},
   "outputs": [
    {
     "data": {
      "text/plain": [
       "3.3333333333333335"
      ]
     },
     "execution_count": 19,
     "metadata": {},
     "output_type": "execute_result"
    }
   ],
   "source": [
    " #This will convert 200 minutes to hours by diving by 60.\n",
    "200/60"
   ]
  },
  {
   "cell_type": "code",
   "execution_count": null,
   "id": "870dd3ba-4382-4aba-8874-41da31f86dd4",
   "metadata": {},
   "outputs": [],
   "source": []
  }
 ],
 "metadata": {
  "kernelspec": {
   "display_name": "anaconda-panel-2023.05-py310",
   "language": "python",
   "name": "conda-env-anaconda-panel-2023.05-py310-py"
  },
  "language_info": {
   "codemirror_mode": {
    "name": "ipython",
    "version": 3
   },
   "file_extension": ".py",
   "mimetype": "text/x-python",
   "name": "python",
   "nbconvert_exporter": "python",
   "pygments_lexer": "ipython3",
   "version": "3.11.4"
  }
 },
 "nbformat": 4,
 "nbformat_minor": 5
}
